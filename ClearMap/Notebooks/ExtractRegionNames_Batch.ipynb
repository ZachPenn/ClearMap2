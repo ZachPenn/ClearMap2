{
 "cells": [
  {
   "cell_type": "markdown",
   "metadata": {},
   "source": [
    "## Load Modules"
   ]
  },
  {
   "cell_type": "code",
   "execution_count": null,
   "metadata": {},
   "outputs": [],
   "source": [
    "%load_ext autoreload\n",
    "%autoreload 2\n",
    "\n",
    "import os\n",
    "import sys\n",
    "os.environ['DISPLAY'] = ':999'\n",
    "sys.path.append('/home/zachpen87/clearmap/ClearMap2/')\n",
    "\n",
    "import dask.array as da\n",
    "import fnmatch\n",
    "import h5py\n",
    "import holoviews as hv\n",
    "import pandas as pd\n",
    "from natsort import natsorted\n",
    "import scipy.ndimage as ndimage\n",
    "import skimage\n",
    "from ClearMap.Environment import * \n",
    "import ClearMap.ImageProcessing.H5 as H5img\n",
    "hv.notebook_extension('bokeh')"
   ]
  },
  {
   "cell_type": "markdown",
   "metadata": {},
   "source": [
    "## Specify Directory Information"
   ]
  },
  {
   "cell_type": "code",
   "execution_count": null,
   "metadata": {},
   "outputs": [],
   "source": [
    "directory           = '/home/zachpen87/clearmap/data/SEFL17/' \n",
    "subdirectories      = natsorted(os.listdir(directory))\n",
    "subdirectories      = fnmatch.filter(subdirectories,'*ms*')\n",
    "\n",
    "excluded_directories = ['ms_21_redo']"
   ]
  },
  {
   "cell_type": "code",
   "execution_count": null,
   "metadata": {},
   "outputs": [],
   "source": [
    "try:\n",
    "    del allcounts\n",
    "except:\n",
    "    pass\n",
    "\n",
    "for subdirectory in subdirectories:\n",
    "    \n",
    "    if subdirectory not in excluded_directories:\n",
    "        hdf5_file = os.path.join(directory, subdirectory,'data.hdf5')\n",
    "        with h5py.File(hdf5_file,'a') as f:\n",
    "            \n",
    "            print('processing labels for: {x}'.format(x=subdirectory))\n",
    "            labels = f['centroids/labels'][:]\n",
    "            names = ano.convert_label(label=labels, value='name',key='id')\n",
    "            acronyms = ano.convert_label(label=labels, value='acronym',key='id')\n",
    "            gph_ordr = ano.convert_label(label=labels, value='graph_order',key='id')\n",
    "            p_id = ano.convert_label(label=labels, value='parent_structure_id', key='id')\n",
    "            p_names = np.array(['None']*len(p_id), dtype='U80')\n",
    "            p_names[np.where(p_id != None)] = ano.convert_label(\n",
    "                label=p_id[np.where(p_id != None)], value='name', key='id')\n",
    "            pt_frame = pd.DataFrame({\n",
    "                'annotation_labels' : labels,\n",
    "                'annotation_names' : names,\n",
    "                'annotation_abrv' : acronyms,\n",
    "                'parent_labels' : p_id,\n",
    "                'parent_names' : p_names,\n",
    "                'graph_order' : gph_ordr})\n",
    "            pt_frame.fillna('None',inplace=True) # by exluding this line, 'universe', 'brain' and 'unlabeled' will be dropped\n",
    "            countsummary = pt_frame.value_counts().reset_index(name='count')\n",
    "            countsummary.insert(0,'animal',subdirectory)\n",
    "            countsummary.to_csv(os.path.join(directory,subdirectory,'countsummary.csv'),index=False)\n",
    "            \n",
    "            try:\n",
    "                allcounts = pd.concat([allcounts,countsummary])\n",
    "            except:\n",
    "                allcounts = countsummary\n",
    "\n",
    "allcounts.to_csv(os.path.join(directory,'results','countsummary.csv'),index=False)             "
   ]
  },
  {
   "cell_type": "code",
   "execution_count": null,
   "metadata": {},
   "outputs": [],
   "source": []
  }
 ],
 "metadata": {
  "kernelspec": {
   "display_name": "clearmap2",
   "language": "python",
   "name": "clearmap2"
  },
  "language_info": {
   "codemirror_mode": {
    "name": "ipython",
    "version": 3
   },
   "file_extension": ".py",
   "mimetype": "text/x-python",
   "name": "python",
   "nbconvert_exporter": "python",
   "pygments_lexer": "ipython3",
   "version": "3.7.8"
  }
 },
 "nbformat": 4,
 "nbformat_minor": 4
}
