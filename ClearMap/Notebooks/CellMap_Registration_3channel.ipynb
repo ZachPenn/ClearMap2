{
 "cells": [
  {
   "cell_type": "markdown",
   "metadata": {},
   "source": [
    "# Allignment\n"
   ]
  },
  {
   "cell_type": "markdown",
   "metadata": {},
   "source": [
    "## Import Modules"
   ]
  },
  {
   "cell_type": "markdown",
   "metadata": {},
   "source": [
    "##### note `os.environ['DISPLAY']` sets up an empty link with headless server, and depends upon use of XPRA software.  See notes under '...ClearMap2/ClearMap/Headless.txt'"
   ]
  },
  {
   "cell_type": "code",
   "execution_count": null,
   "metadata": {},
   "outputs": [],
   "source": [
    "%load_ext autoreload\n",
    "%autoreload 2\n",
    "\n",
    "import os\n",
    "import sys\n",
    "os.environ['DISPLAY'] = ':999'\n",
    "sys.path.append('/home/zachpen87/clearmap/ClearMap2/')\n",
    "\n",
    "import dask.array as da\n",
    "import fnmatch\n",
    "import holoviews as hv\n",
    "import h5py\n",
    "from ClearMap.Environment import * \n",
    "from holoviews import streams\n",
    "import ClearMap.IO.TIF_to_HDF5 as H5converter\n",
    "\n",
    "hv.notebook_extension('bokeh')"
   ]
  },
  {
   "cell_type": "markdown",
   "metadata": {},
   "source": [
    "## Initialize workspace"
   ]
  },
  {
   "cell_type": "code",
   "execution_count": null,
   "metadata": {},
   "outputs": [],
   "source": [
    "animal = '107'\n",
    "directory = '/home/zachpen87/clearmap/data/SEFL17b/ms_{id}/'.format(id=animal) \n",
    "\n",
    "#directory in which tiff folders are stored\n",
    "remote_directory = '/media/share/csstorage/Zach/LargeFiles/iDISCO/SEFL_17b/ms_{id}'.format(id=animal)\n",
    "\n",
    "os.makedirs(directory) if not os.path.isdir(directory) else None\n",
    "ws = wsp.Workspace('CellMap', directory=directory)\n",
    "hdf5_file = os.path.join(directory,'data.hdf5')\n",
    "resources_directory = settings.resources_path\n",
    "ws.info()"
   ]
  },
  {
   "cell_type": "markdown",
   "metadata": {},
   "source": [
    "## Convert tif folders to hdf5 datasets"
   ]
  },
  {
   "cell_type": "code",
   "execution_count": null,
   "metadata": {},
   "outputs": [],
   "source": [
    "%%time\n",
    "\n",
    "buffer_size = 200\n",
    "if ws.file_list('hdf5')==[]:\n",
    "    \n",
    "    H5converter.tiffolder_tohdf5(\n",
    "        directory = os.path.join(\n",
    "            remote_directory,\n",
    "            fnmatch.filter(os.listdir(remote_directory),'*647*')[0]),\n",
    "        directory_out = directory,\n",
    "        output_file = 'data.hdf5', \n",
    "        dsetname = 'fos_647',\n",
    "        buffer_size = buffer_size)\n",
    "    \n",
    "    H5converter.tiffolder_tohdf5(\n",
    "        directory = os.path.join(\n",
    "            remote_directory,\n",
    "            fnmatch.filter(os.listdir(remote_directory),'*790*')[0]),\n",
    "        directory_out = directory,\n",
    "        output_file = 'data.hdf5', \n",
    "        dsetname = 'fos_790',\n",
    "        buffer_size = buffer_size)\n",
    "    \n",
    "    H5converter.tiffolder_tohdf5(\n",
    "        directory = os.path.join(\n",
    "            remote_directory,\n",
    "            fnmatch.filter(os.listdir(remote_directory),'*auto*')[0]),\n",
    "        directory_out = directory,\n",
    "        output_file = 'data.hdf5', \n",
    "        dsetname = 'auto',\n",
    "        buffer_size = buffer_size)\n",
    "    ws.update(hdf5 = 'data.hdf5')\n",
    "    \n",
    "ws.info()"
   ]
  },
  {
   "cell_type": "markdown",
   "metadata": {},
   "source": [
    "## Define cropping bounds from max projection"
   ]
  },
  {
   "cell_type": "markdown",
   "metadata": {},
   "source": [
    "#### Calculate max projection along desired axis"
   ]
  },
  {
   "cell_type": "code",
   "execution_count": null,
   "metadata": {},
   "outputs": [],
   "source": [
    "with h5py.File(hdf5_file,'a') as f:\n",
    "    maxp = da.from_array(f['auto'],chunks=(500,500,500)).max(axis=0).compute()"
   ]
  },
  {
   "cell_type": "markdown",
   "metadata": {},
   "source": [
    "#### Display max image.  Crop using box selection tool"
   ]
  },
  {
   "cell_type": "code",
   "execution_count": null,
   "metadata": {},
   "outputs": [],
   "source": [
    "%%output size = 25\n",
    "cropping_image, cropping_stream = jvis.crop_img(maxp, lims=(0,1000))\n",
    "cropping_image"
   ]
  },
  {
   "cell_type": "markdown",
   "metadata": {},
   "source": [
    "#### Save cropping coordinates for subsequent use"
   ]
  },
  {
   "cell_type": "code",
   "execution_count": null,
   "metadata": {},
   "outputs": [],
   "source": [
    "coords = jvis.get_cropcoords(maxp, cropping_stream)\n",
    "np.save(os.path.join(directory,'coords.npy'), coords)\n",
    "coords"
   ]
  },
  {
   "cell_type": "markdown",
   "metadata": {},
   "source": [
    "## Create trimmed npy files for resampling"
   ]
  },
  {
   "cell_type": "code",
   "execution_count": null,
   "metadata": {},
   "outputs": [],
   "source": [
    "%%time\n",
    "with h5py.File(hdf5_file, 'r') as f:\n",
    "    slc = (slice(None,None), slice(coords[0,0],coords[0,1]), slice(coords[1,0],coords[1,1]))\n",
    "    np.save(os.path.join(directory,'fos_647.npy'), f['fos_647'][slc])\n",
    "    np.save(os.path.join(directory,'fos_790.npy'), f['fos_790'][slc])\n",
    "    np.save(os.path.join(directory,'auto.npy'), f['auto'][slc])\n",
    "ws.info()"
   ]
  },
  {
   "cell_type": "markdown",
   "metadata": {},
   "source": [
    "## Initialize alignment \n",
    "\n",
    "First initialize the atlas reference files by roughly slicing them to the part of the brain under consideration. \n"
   ]
  },
  {
   "cell_type": "code",
   "execution_count": null,
   "metadata": {},
   "outputs": [],
   "source": [
    "#init atals and reference files\n",
    "annotation_directory = '/home/zachpen87/clearmap/AtlasDocs/Horizontal'\n",
    "\n",
    "#annotation files\n",
    "annotation_file, reference_file=ano.prepare_annotation_files(\n",
    "    annotation_file = os.path.join(annotation_directory,'ABA_25um_annotation.tif'),\n",
    "    reference_file = os.path.join(annotation_directory,'ABA_25um_reference.tif'),\n",
    "    slicing=(slice(None),\n",
    "             slice(None),\n",
    "             slice(None)), \n",
    "    orientation=(1,2,3),\n",
    "    overwrite=False, verbose=True);\n",
    "\n",
    "#alignment parameter files    \n",
    "align_channels_affine_file   = io.join(resources_directory, 'Alignment/align_affine.txt')\n",
    "align_reference_affine_file  = io.join(resources_directory, 'Alignment/align_affine.txt')\n",
    "align_reference_bspline_file = io.join(resources_directory, 'Alignment/align_bspline.txt')"
   ]
  },
  {
   "cell_type": "markdown",
   "metadata": {},
   "source": [
    "## Resampling and atlas alignment \n",
    "\n",
    "### Resampling \n",
    "* `source_resolution` is the resolution of the data as `(x-resolution, y-resolution, z-resolution)`.  \n",
    "* `sink-resolution` is the resolution of the Atlas. We use the 25µm version of the annotation.   "
   ]
  },
  {
   "cell_type": "code",
   "execution_count": null,
   "metadata": {},
   "outputs": [],
   "source": [
    "%%time\n",
    "resample_parameter = {\n",
    "    \"source_resolution\" : (5,5,4.5),\n",
    "    \"sink_resolution\"   : (25,25,25),\n",
    "    \"orientation\" : (3,2,1),\n",
    "    \"processes\" : 12,\n",
    "    \"verbose\" : False}\n",
    "    \n",
    "res.resample(\n",
    "    ws.filename('raw', postfix='647'),\n",
    "    sink=ws.filename('resampled', postfix='647'),\n",
    "    **resample_parameter)\n",
    "\n",
    "res.resample(\n",
    "    ws.filename('raw', postfix='790'),\n",
    "    sink=ws.filename('resampled', postfix='790'),\n",
    "    **resample_parameter)\n",
    "\n",
    "res.resample(\n",
    "    ws.filename('autofluorescence'), \n",
    "    sink=ws.filename('resampled', postfix='autofluorescence'), \n",
    "    **resample_parameter)\n",
    "\n",
    "for npy in ['auto.npy','fos_647.npy','fos_790.npy']: os.remove(os.path.join(directory,npy))"
   ]
  },
  {
   "cell_type": "markdown",
   "metadata": {},
   "source": [
    "### Alignment \n",
    "\n",
    "This step interfaces to [elastix](https://elastix.lumc.nl/) to aligin the resampled raw image to the resampled autofluorescence image.\n",
    "\n",
    "As the autofluorescence image is often taken in a separate step with different microscope settings both images typically do not align. This steps corrects for this via a affine transformation."
   ]
  },
  {
   "cell_type": "code",
   "execution_count": null,
   "metadata": {},
   "outputs": [],
   "source": [
    "%%time\n",
    "\n",
    "channel_list = ['647', '790']\n",
    "for channel in channel_list:\n",
    "    print('Alligning channel {x} with autofluorescence'.format(x=channel))\n",
    "    align_channels_parameter = {            \n",
    "        \"moving_image\" : ws.filename('resampled', postfix='autofluorescence'),\n",
    "        \"fixed_image\"  : ws.filename('resampled', postfix = channel),\n",
    "        \"affine_parameter_file\"  : align_channels_affine_file,\n",
    "        \"bspline_parameter_file\" : None,\n",
    "        \"result_directory\" :  ws.filename('resampled_to_auto', postfix = channel)} \n",
    "    elx.align(**align_channels_parameter);\n",
    "\n",
    "print('Alligning reference with autofluorescence')\n",
    "align_reference_parameter = {            \n",
    "    \"moving_image\" : reference_file,\n",
    "    \"fixed_image\"  : ws.filename('resampled', postfix='autofluorescence'),\n",
    "    \"affine_parameter_file\"  :  align_reference_affine_file,\n",
    "    \"bspline_parameter_file\" :  align_reference_bspline_file,\n",
    "    \"result_directory\" :  ws.filename('auto_to_reference')}\n",
    "elx.align(**align_reference_parameter);"
   ]
  },
  {
   "cell_type": "markdown",
   "metadata": {},
   "source": [
    "## Visualize Allignment\n",
    "\n",
    "Below, alignment can be visualized by comparing the transformed Allen Brain Atlas reference image to the resampled autofluorescence and signal channels."
   ]
  },
  {
   "cell_type": "code",
   "execution_count": null,
   "metadata": {},
   "outputs": [],
   "source": [
    "%output size=100\n",
    "\n",
    "plane = 'h'   # h, s, or c.  for horizontal, sagittal, or coronal\n",
    "inter = 20    # interval between slices\n",
    "channels = ['647','790'] #list of channel postfix if applicable, or None\n",
    "\n",
    "align_imgs = jvis.load_alignment_images(ws, channels=channels)\n",
    "auto_hmap = jvis.gen_hmap(align_imgs['auto'],plane,title='Autofluoresence',inter=inter)\n",
    "auto_sig_hmap = jvis.gen_hmap(align_imgs['auto_to_sig'],plane,title='Autofluoresence to Sig',inter=inter)\n",
    "sig1_hmap = jvis.gen_hmap(align_imgs['647'],plane,title='Signal_647',inter=inter, lims=(50,300))\n",
    "sig2_hmap = jvis.gen_hmap(align_imgs['790'],plane,title='Signal_790',inter=inter, lims=(50,200))\n",
    "ref_hmap = jvis.gen_hmap(align_imgs['reference'],plane,title='Transformed ABA Reference',inter=inter) \n",
    "\n",
    "pointer = streams.PointerXY(x=0, y=0, source=ref_hmap)\n",
    "def cross_hair_info(x, y):\n",
    "    return hv.HLine(y) * hv.VLine(x) \n",
    "dmap = hv.DynamicMap(cross_hair_info, streams=[pointer])\n",
    "\n",
    "hv.output(widget_location='bottom')\n",
    "((ref_hmap+auto_hmap+auto_sig_hmap+sig2_hmap+sig1_hmap)*dmap).cols(5)    "
   ]
  },
  {
   "cell_type": "code",
   "execution_count": null,
   "metadata": {},
   "outputs": [],
   "source": []
  },
  {
   "cell_type": "code",
   "execution_count": null,
   "metadata": {},
   "outputs": [],
   "source": []
  }
 ],
 "metadata": {
  "kernelspec": {
   "display_name": "clearmap2",
   "language": "python",
   "name": "clearmap2"
  },
  "language_info": {
   "codemirror_mode": {
    "name": "ipython",
    "version": 3
   },
   "file_extension": ".py",
   "mimetype": "text/x-python",
   "name": "python",
   "nbconvert_exporter": "python",
   "pygments_lexer": "ipython3",
   "version": "3.7.8"
  }
 },
 "nbformat": 4,
 "nbformat_minor": 4
}
