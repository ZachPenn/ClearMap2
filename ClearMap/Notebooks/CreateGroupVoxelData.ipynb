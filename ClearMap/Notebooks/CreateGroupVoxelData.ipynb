{
 "cells": [
  {
   "cell_type": "markdown",
   "metadata": {},
   "source": [
    "## Load Modules"
   ]
  },
  {
   "cell_type": "code",
   "execution_count": null,
   "metadata": {},
   "outputs": [],
   "source": [
    "%load_ext autoreload\n",
    "%autoreload 2\n",
    "\n",
    "import os\n",
    "import sys\n",
    "sys.path.append('/home/zachpen87/clearmap/ClearMap2/')\n",
    "\n",
    "import h5py\n",
    "import holoviews as hv\n",
    "import dask.array as da\n",
    "import numpy as np\n",
    "import scipy.ndimage as ndimage\n",
    "import scipy.stats as stats\n",
    "import skimage\n",
    "from skimage import io\n",
    "#import ClearMap.ImageProcessing.H5 as H5img\n",
    "import ClearMap.Visualization.JupNtbk_vis as jvis\n",
    "hv.notebook_extension('bokeh')"
   ]
  },
  {
   "cell_type": "markdown",
   "metadata": {},
   "source": [
    "## Define directory and group information"
   ]
  },
  {
   "cell_type": "code",
   "execution_count": null,
   "metadata": {},
   "outputs": [],
   "source": [
    "directory = '/home/zachpen87/clearmap/data/SEFL17/' \n",
    "res_directory = '/home/zachpen87/clearmap/data/SEFL17/results' \n",
    "\n",
    "group_dict = {\n",
    "    'NoTrauma_lowf' : ['ms_12','ms_18','ms_23','ms_05','ms_15','ms_07'],\n",
    "    'Trauma_highf' : ['ms_06','ms_17','ms_22','ms_10','ms_09','ms_16'],\n",
    "    'NoStim' : ['ms_01','ms_02','ms_03','ms_04','ms_25','ms_26','ms_27','ms_28'],\n",
    "    'NoTrauma' : ['ms_05','ms_07','ms_12','ms_13','ms_14','ms_15','ms_18','ms_20','ms_21','ms_23'],\n",
    "    'Trauma' : ['ms_06','ms_08','ms_09','ms_10','ms_11','ms_16','ms_17','ms_19','ms_22','ms_24'],\n",
    "    'NoStimNoTrauma' : ['ms_02','ms_04','ms_25','ms_27'],\n",
    "    'NoStimTrauma' : ['ms_01','ms_03','ms_26','ms_28']\n",
    "}\n",
    "\n",
    "if not os.path.isdir(res_directory):\n",
    "    os.mkdir(res_directory)"
   ]
  },
  {
   "cell_type": "markdown",
   "metadata": {},
   "source": [
    "## Load ABA reference image and size"
   ]
  },
  {
   "cell_type": "code",
   "execution_count": null,
   "metadata": {},
   "outputs": [],
   "source": [
    "ABA_directory = '/home/zachpen87/clearmap/AtlasDocs/Horizontal'\n",
    "ABA_ref = 'ABA_25um_reference__1_2_3__slice_None_None_None__slice_None_None_None__slice_None_None_None__.tif'\n",
    "ref = skimage.io.imread(os.path.join(ABA_directory, ABA_ref))\n",
    "htmp_shape = ref.shape"
   ]
  },
  {
   "cell_type": "markdown",
   "metadata": {},
   "source": [
    "## For each group, create single hdf5 with 4d heatmat dataset (animal, Z, Y, X)"
   ]
  },
  {
   "cell_type": "code",
   "execution_count": null,
   "metadata": {},
   "outputs": [],
   "source": [
    "for group in group_dict:\n",
    "    \n",
    "    fpath = os.path.join(res_directory, \n",
    "                         '.'.join([group,'hdf5']))\n",
    "    \n",
    "    with h5py.File(fpath, 'w') as f: \n",
    "        \n",
    "        n = [len(group_dict[group])]\n",
    "        f.create_dataset('n', data=n, dtype='uint8')\n",
    "        \n",
    "        f.create_dataset(\n",
    "            'allmaps',\n",
    "            tuple(np.concatenate([n, list(htmp_shape)])),\n",
    "            dtype = 'float64')\n",
    "        \n",
    "        for idx, ms in enumerate(group_dict[group]):\n",
    "            print('writing {ms} to group: {group}'.format(ms=ms,group=group))\n",
    "            subpath = os.path.join(directory,ms,'data.hdf5')\n",
    "            with h5py.File(subpath, 'r') as subf:\n",
    "                f['allmaps'][idx,:,:,:] = subf['heatmap'][:]\n",
    "                    "
   ]
  },
  {
   "cell_type": "markdown",
   "metadata": {},
   "source": [
    "## Define mean and standard deviation heatmaps"
   ]
  },
  {
   "cell_type": "code",
   "execution_count": null,
   "metadata": {},
   "outputs": [],
   "source": [
    "for group in group_dict:\n",
    "    \n",
    "    fpath = os.path.join(res_directory, '.'.join([group,'hdf5']))\n",
    "    with h5py.File(fpath, 'a') as f: \n",
    "        \n",
    "        print('creating dask array for all data in group {group}'.format(group=group))\n",
    "        n=f['n'][0]\n",
    "        allmaps = da.from_array(\n",
    "            f['allmaps'],\n",
    "            chunks=(n,500,500,500))\n",
    "        \n",
    "        print('calculating mean heatmap for group: {group}'.format(group=group))\n",
    "        allmaps.mean(axis=0).to_hdf5(fpath,('/'+'mean'))\n",
    "        \n",
    "        print('calculating std dev heatmap for group: {group}'.format(group=group))\n",
    "        allmaps.std(axis=0).to_hdf5(fpath,('/'+'std'))\n",
    "        \n",
    "        print('calculating z heatmap for group: {group}'.format(group=group))\n",
    "        z = f['mean'][:]\n",
    "        std = f['std'][:]\n",
    "        z[std==0] = 0\n",
    "        z[std>0] = z[std>0]/std[std>0]\n",
    "        f.create_dataset('z',data=z)\n",
    "        \n",
    "        "
   ]
  },
  {
   "cell_type": "markdown",
   "metadata": {},
   "source": [
    "## Visualize group heatmaps"
   ]
  },
  {
   "cell_type": "code",
   "execution_count": null,
   "metadata": {},
   "outputs": [],
   "source": [
    "%output size = 120\n",
    "\n",
    "groups = ['NoTrauma_lowf','Trauma_highf']\n",
    "dset = 'mean'\n",
    "interval = 10\n",
    "plane = 'c'\n",
    "include_ref = True\n",
    "\n",
    "hmap_dict = {}\n",
    "if include_ref:\n",
    "    hmap_dict['ref'] = jvis.gen_hmap(ref,plane=plane,title='Allen Brain Atlas',inter=interval,tools=['hover']) \n",
    "\n",
    "for group in groups:\n",
    "    hdf5_file = os.path.join(res_directory, '{group}.hdf5'.format(group=group))\n",
    "    with h5py.File(hdf5_file,'r') as f:\n",
    "        hmap_dict[group] = jvis.gen_hmap((f[dset][:]*100)**2,\n",
    "                               plane=plane,\n",
    "                               title= '{group}: {var}'.format(group=group,var=dset),\n",
    "                               inter=interval,lims=(0,50),\n",
    "                               cmap='inferno',\n",
    "                               alpha=1,\n",
    "                               tools=['hover'])\n",
    "    \n",
    "hv.NdLayout(hmap_dict).cols(1)"
   ]
  }
 ],
 "metadata": {
  "kernelspec": {
   "display_name": "clearmap2",
   "language": "python",
   "name": "clearmap2"
  },
  "language_info": {
   "codemirror_mode": {
    "name": "ipython",
    "version": 3
   },
   "file_extension": ".py",
   "mimetype": "text/x-python",
   "name": "python",
   "nbconvert_exporter": "python",
   "pygments_lexer": "ipython3",
   "version": "3.7.8"
  }
 },
 "nbformat": 4,
 "nbformat_minor": 4
}
